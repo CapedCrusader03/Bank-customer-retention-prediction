{
 "cells": [
  {
   "cell_type": "code",
   "execution_count": 1,
   "metadata": {
    "_cell_guid": "b1076dfc-b9ad-4769-8c92-a6c4dae69d19",
    "_uuid": "8f2839f25d086af736a60e9eeb907d3b93b6e0e5"
   },
   "outputs": [
    {
     "name": "stdout",
     "output_type": "stream",
     "text": [
      "/kaggle/input/bank-customers/Churn Modeling.csv\n"
     ]
    }
   ],
   "source": [
    "# This Python 3 environment comes with many helpful analytics libraries installed\n",
    "# It is defined by the kaggle/python docker image: https://github.com/kaggle/docker-python\n",
    "\n",
    "import numpy as np # linear algebra\n",
    "import matplotlib.pyplot as plt\n",
    "import pandas as pd # data processing, CSV file I/O (e.g. pd.read_csv)\n",
    "\n",
    "# Input data files are available in the \"../input/\" directory.\n",
    "# For example, running this (by clicking run or pressing Shift+Enter) will list all files under the input directory\n",
    "\n",
    "import os\n",
    "for dirname, _, filenames in os.walk('/kaggle/input'):\n",
    "    for filename in filenames:\n",
    "        print(os.path.join(dirname, filename))\n",
    "\n",
    "# Any results you write to the current directory are saved as output."
   ]
  },
  {
   "cell_type": "markdown",
   "metadata": {},
   "source": [
    "Reading the dataset and setting the values for dependent and independent variables."
   ]
  },
  {
   "cell_type": "code",
   "execution_count": 2,
   "metadata": {},
   "outputs": [
    {
     "data": {
      "text/html": [
       "<div>\n",
       "<style scoped>\n",
       "    .dataframe tbody tr th:only-of-type {\n",
       "        vertical-align: middle;\n",
       "    }\n",
       "\n",
       "    .dataframe tbody tr th {\n",
       "        vertical-align: top;\n",
       "    }\n",
       "\n",
       "    .dataframe thead th {\n",
       "        text-align: right;\n",
       "    }\n",
       "</style>\n",
       "<table border=\"1\" class=\"dataframe\">\n",
       "  <thead>\n",
       "    <tr style=\"text-align: right;\">\n",
       "      <th></th>\n",
       "      <th>RowNumber</th>\n",
       "      <th>CustomerId</th>\n",
       "      <th>Surname</th>\n",
       "      <th>CreditScore</th>\n",
       "      <th>Geography</th>\n",
       "      <th>Gender</th>\n",
       "      <th>Age</th>\n",
       "      <th>Tenure</th>\n",
       "      <th>Balance</th>\n",
       "      <th>NumOfProducts</th>\n",
       "      <th>HasCrCard</th>\n",
       "      <th>IsActiveMember</th>\n",
       "      <th>EstimatedSalary</th>\n",
       "      <th>Exited</th>\n",
       "    </tr>\n",
       "  </thead>\n",
       "  <tbody>\n",
       "    <tr>\n",
       "      <th>0</th>\n",
       "      <td>1</td>\n",
       "      <td>15634602</td>\n",
       "      <td>Hargrave</td>\n",
       "      <td>619</td>\n",
       "      <td>France</td>\n",
       "      <td>Female</td>\n",
       "      <td>42</td>\n",
       "      <td>2</td>\n",
       "      <td>0.00</td>\n",
       "      <td>1</td>\n",
       "      <td>1</td>\n",
       "      <td>1</td>\n",
       "      <td>101348.88</td>\n",
       "      <td>1</td>\n",
       "    </tr>\n",
       "    <tr>\n",
       "      <th>1</th>\n",
       "      <td>2</td>\n",
       "      <td>15647311</td>\n",
       "      <td>Hill</td>\n",
       "      <td>608</td>\n",
       "      <td>Spain</td>\n",
       "      <td>Female</td>\n",
       "      <td>41</td>\n",
       "      <td>1</td>\n",
       "      <td>83807.86</td>\n",
       "      <td>1</td>\n",
       "      <td>0</td>\n",
       "      <td>1</td>\n",
       "      <td>112542.58</td>\n",
       "      <td>0</td>\n",
       "    </tr>\n",
       "    <tr>\n",
       "      <th>2</th>\n",
       "      <td>3</td>\n",
       "      <td>15619304</td>\n",
       "      <td>Onio</td>\n",
       "      <td>502</td>\n",
       "      <td>France</td>\n",
       "      <td>Female</td>\n",
       "      <td>42</td>\n",
       "      <td>8</td>\n",
       "      <td>159660.80</td>\n",
       "      <td>3</td>\n",
       "      <td>1</td>\n",
       "      <td>0</td>\n",
       "      <td>113931.57</td>\n",
       "      <td>1</td>\n",
       "    </tr>\n",
       "    <tr>\n",
       "      <th>3</th>\n",
       "      <td>4</td>\n",
       "      <td>15701354</td>\n",
       "      <td>Boni</td>\n",
       "      <td>699</td>\n",
       "      <td>France</td>\n",
       "      <td>Female</td>\n",
       "      <td>39</td>\n",
       "      <td>1</td>\n",
       "      <td>0.00</td>\n",
       "      <td>2</td>\n",
       "      <td>0</td>\n",
       "      <td>0</td>\n",
       "      <td>93826.63</td>\n",
       "      <td>0</td>\n",
       "    </tr>\n",
       "    <tr>\n",
       "      <th>4</th>\n",
       "      <td>5</td>\n",
       "      <td>15737888</td>\n",
       "      <td>Mitchell</td>\n",
       "      <td>850</td>\n",
       "      <td>Spain</td>\n",
       "      <td>Female</td>\n",
       "      <td>43</td>\n",
       "      <td>2</td>\n",
       "      <td>125510.82</td>\n",
       "      <td>1</td>\n",
       "      <td>1</td>\n",
       "      <td>1</td>\n",
       "      <td>79084.10</td>\n",
       "      <td>0</td>\n",
       "    </tr>\n",
       "    <tr>\n",
       "      <th>...</th>\n",
       "      <td>...</td>\n",
       "      <td>...</td>\n",
       "      <td>...</td>\n",
       "      <td>...</td>\n",
       "      <td>...</td>\n",
       "      <td>...</td>\n",
       "      <td>...</td>\n",
       "      <td>...</td>\n",
       "      <td>...</td>\n",
       "      <td>...</td>\n",
       "      <td>...</td>\n",
       "      <td>...</td>\n",
       "      <td>...</td>\n",
       "      <td>...</td>\n",
       "    </tr>\n",
       "    <tr>\n",
       "      <th>9995</th>\n",
       "      <td>9996</td>\n",
       "      <td>15606229</td>\n",
       "      <td>Obijiaku</td>\n",
       "      <td>771</td>\n",
       "      <td>France</td>\n",
       "      <td>Male</td>\n",
       "      <td>39</td>\n",
       "      <td>5</td>\n",
       "      <td>0.00</td>\n",
       "      <td>2</td>\n",
       "      <td>1</td>\n",
       "      <td>0</td>\n",
       "      <td>96270.64</td>\n",
       "      <td>0</td>\n",
       "    </tr>\n",
       "    <tr>\n",
       "      <th>9996</th>\n",
       "      <td>9997</td>\n",
       "      <td>15569892</td>\n",
       "      <td>Johnstone</td>\n",
       "      <td>516</td>\n",
       "      <td>France</td>\n",
       "      <td>Male</td>\n",
       "      <td>35</td>\n",
       "      <td>10</td>\n",
       "      <td>57369.61</td>\n",
       "      <td>1</td>\n",
       "      <td>1</td>\n",
       "      <td>1</td>\n",
       "      <td>101699.77</td>\n",
       "      <td>0</td>\n",
       "    </tr>\n",
       "    <tr>\n",
       "      <th>9997</th>\n",
       "      <td>9998</td>\n",
       "      <td>15584532</td>\n",
       "      <td>Liu</td>\n",
       "      <td>709</td>\n",
       "      <td>France</td>\n",
       "      <td>Female</td>\n",
       "      <td>36</td>\n",
       "      <td>7</td>\n",
       "      <td>0.00</td>\n",
       "      <td>1</td>\n",
       "      <td>0</td>\n",
       "      <td>1</td>\n",
       "      <td>42085.58</td>\n",
       "      <td>1</td>\n",
       "    </tr>\n",
       "    <tr>\n",
       "      <th>9998</th>\n",
       "      <td>9999</td>\n",
       "      <td>15682355</td>\n",
       "      <td>Sabbatini</td>\n",
       "      <td>772</td>\n",
       "      <td>Germany</td>\n",
       "      <td>Male</td>\n",
       "      <td>42</td>\n",
       "      <td>3</td>\n",
       "      <td>75075.31</td>\n",
       "      <td>2</td>\n",
       "      <td>1</td>\n",
       "      <td>0</td>\n",
       "      <td>92888.52</td>\n",
       "      <td>1</td>\n",
       "    </tr>\n",
       "    <tr>\n",
       "      <th>9999</th>\n",
       "      <td>10000</td>\n",
       "      <td>15628319</td>\n",
       "      <td>Walker</td>\n",
       "      <td>792</td>\n",
       "      <td>France</td>\n",
       "      <td>Female</td>\n",
       "      <td>28</td>\n",
       "      <td>4</td>\n",
       "      <td>130142.79</td>\n",
       "      <td>1</td>\n",
       "      <td>1</td>\n",
       "      <td>0</td>\n",
       "      <td>38190.78</td>\n",
       "      <td>0</td>\n",
       "    </tr>\n",
       "  </tbody>\n",
       "</table>\n",
       "<p>10000 rows × 14 columns</p>\n",
       "</div>"
      ],
      "text/plain": [
       "      RowNumber  CustomerId    Surname  CreditScore Geography  Gender  Age  \\\n",
       "0             1    15634602   Hargrave          619    France  Female   42   \n",
       "1             2    15647311       Hill          608     Spain  Female   41   \n",
       "2             3    15619304       Onio          502    France  Female   42   \n",
       "3             4    15701354       Boni          699    France  Female   39   \n",
       "4             5    15737888   Mitchell          850     Spain  Female   43   \n",
       "...         ...         ...        ...          ...       ...     ...  ...   \n",
       "9995       9996    15606229   Obijiaku          771    France    Male   39   \n",
       "9996       9997    15569892  Johnstone          516    France    Male   35   \n",
       "9997       9998    15584532        Liu          709    France  Female   36   \n",
       "9998       9999    15682355  Sabbatini          772   Germany    Male   42   \n",
       "9999      10000    15628319     Walker          792    France  Female   28   \n",
       "\n",
       "      Tenure    Balance  NumOfProducts  HasCrCard  IsActiveMember  \\\n",
       "0          2       0.00              1          1               1   \n",
       "1          1   83807.86              1          0               1   \n",
       "2          8  159660.80              3          1               0   \n",
       "3          1       0.00              2          0               0   \n",
       "4          2  125510.82              1          1               1   \n",
       "...      ...        ...            ...        ...             ...   \n",
       "9995       5       0.00              2          1               0   \n",
       "9996      10   57369.61              1          1               1   \n",
       "9997       7       0.00              1          0               1   \n",
       "9998       3   75075.31              2          1               0   \n",
       "9999       4  130142.79              1          1               0   \n",
       "\n",
       "      EstimatedSalary  Exited  \n",
       "0           101348.88       1  \n",
       "1           112542.58       0  \n",
       "2           113931.57       1  \n",
       "3            93826.63       0  \n",
       "4            79084.10       0  \n",
       "...               ...     ...  \n",
       "9995         96270.64       0  \n",
       "9996        101699.77       0  \n",
       "9997         42085.58       1  \n",
       "9998         92888.52       1  \n",
       "9999         38190.78       0  \n",
       "\n",
       "[10000 rows x 14 columns]"
      ]
     },
     "execution_count": 2,
     "metadata": {},
     "output_type": "execute_result"
    }
   ],
   "source": [
    "pd.read_csv('/kaggle/input/bank-customers/Churn Modeling.csv')"
   ]
  },
  {
   "cell_type": "code",
   "execution_count": 3,
   "metadata": {
    "_cell_guid": "79c7e3d0-c299-4dcb-8224-4455121ee9b0",
    "_uuid": "d629ff2d2480ee46fbb7e2d37f6b5fab8052498a"
   },
   "outputs": [],
   "source": [
    "dataset = pd.read_csv('/kaggle/input/bank-customers/Churn Modeling.csv')\n",
    "X = dataset.iloc[:, 3:13].values\n",
    "y = dataset.iloc[:, 13].values"
   ]
  },
  {
   "cell_type": "markdown",
   "metadata": {},
   "source": [
    "One-hot-encoding the categorical variable \"Geography\" and Label-Encoding the categorical variable \"Gender\""
   ]
  },
  {
   "cell_type": "code",
   "execution_count": 4,
   "metadata": {},
   "outputs": [
    {
     "name": "stderr",
     "output_type": "stream",
     "text": [
      "/opt/conda/lib/python3.6/site-packages/sklearn/preprocessing/_encoders.py:415: FutureWarning: The handling of integer data will change in version 0.22. Currently, the categories are determined based on the range [0, max(values)], while in the future they will be determined based on the unique values.\n",
      "If you want the future behaviour and silence this warning, you can specify \"categories='auto'\".\n",
      "In case you used a LabelEncoder before this OneHotEncoder to convert the categories to integers, then you can now use the OneHotEncoder directly.\n",
      "  warnings.warn(msg, FutureWarning)\n",
      "/opt/conda/lib/python3.6/site-packages/sklearn/preprocessing/_encoders.py:451: DeprecationWarning: The 'categorical_features' keyword is deprecated in version 0.20 and will be removed in 0.22. You can use the ColumnTransformer instead.\n",
      "  \"use the ColumnTransformer instead.\", DeprecationWarning)\n"
     ]
    }
   ],
   "source": [
    "from sklearn.preprocessing import LabelEncoder,OneHotEncoder\n",
    "le_1 = LabelEncoder()\n",
    "X[:,1] = le_1.fit_transform(X[:,1])\n",
    "le_2 = LabelEncoder()\n",
    "X[:,2] = le_2.fit_transform(X[:,2])\n",
    "ohe = OneHotEncoder(categorical_features = [1])\n",
    "X = ohe.fit_transform(X).toarray()\n",
    "X = X[:, 1:]"
   ]
  },
  {
   "cell_type": "markdown",
   "metadata": {},
   "source": [
    "Splitting the training and testing dataset"
   ]
  },
  {
   "cell_type": "code",
   "execution_count": 5,
   "metadata": {},
   "outputs": [],
   "source": [
    "from sklearn.model_selection import train_test_split\n",
    "X_train,X_test,y_train,y_test = train_test_split(X,y,test_size = 0.2,random_state = 0)"
   ]
  },
  {
   "cell_type": "markdown",
   "metadata": {},
   "source": [
    "Feature Scaling"
   ]
  },
  {
   "cell_type": "code",
   "execution_count": 6,
   "metadata": {},
   "outputs": [],
   "source": [
    "from sklearn.preprocessing import StandardScaler\n",
    "sc = StandardScaler()\n",
    "X_train = sc.fit_transform(X_train)\n",
    "X_test = sc.fit_transform(X_test)"
   ]
  },
  {
   "cell_type": "code",
   "execution_count": 7,
   "metadata": {},
   "outputs": [
    {
     "name": "stderr",
     "output_type": "stream",
     "text": [
      "Using TensorFlow backend.\n"
     ]
    },
    {
     "data": {
      "text/plain": [
       "'2.3.1'"
      ]
     },
     "execution_count": 7,
     "metadata": {},
     "output_type": "execute_result"
    }
   ],
   "source": [
    "import keras\n",
    "keras.__version__"
   ]
  },
  {
   "cell_type": "markdown",
   "metadata": {},
   "source": [
    "**MAKING ANN**"
   ]
  },
  {
   "cell_type": "code",
   "execution_count": 8,
   "metadata": {},
   "outputs": [],
   "source": [
    "from keras.models import Sequential\n",
    "from keras.layers import Dense\n",
    "from keras.layers import Dropout"
   ]
  },
  {
   "cell_type": "markdown",
   "metadata": {},
   "source": [
    "Initialising the ANN"
   ]
  },
  {
   "cell_type": "code",
   "execution_count": 9,
   "metadata": {},
   "outputs": [],
   "source": [
    "classifier = Sequential()"
   ]
  },
  {
   "cell_type": "markdown",
   "metadata": {},
   "source": [
    "***BUILDING A 4 HIDDEN-LAYERED ANN USING SELU ACTIVATION FUNCTION***"
   ]
  },
  {
   "cell_type": "code",
   "execution_count": 10,
   "metadata": {},
   "outputs": [],
   "source": [
    "#Adding the input layer and first layer\n",
    "classifier.add(Dense(activation = 'selu', input_dim = 11, units = 6, kernel_initializer = 'lecun_normal'))\n",
    "classifier.add(Dropout(rate = 0.1))\n",
    "#Adding the second hidden layer\n",
    "classifier.add(Dense(activation='selu', units = 6, kernel_initializer=\"lecun_normal\"))\n",
    "classifier.add(Dropout(rate = 0.1))\n",
    "#Adding the third hidden layer\n",
    "classifier.add(Dense(activation = 'selu', units = 6, kernel_initializer = 'lecun_normal'))\n",
    "classifier.add(Dropout(rate  =0.1))\n",
    "#Adding the fourth hidden layer\n",
    "classifier.add(Dense(activation = 'selu', units = 6, kernel_initializer = 'lecun_normal'))\n",
    "classifier.add(Dropout(rate  =0.1))\n",
    "#Adding the output layer\n",
    "classifier.add(Dense(activation = 'sigmoid', units = 1, kernel_initializer = 'uniform'))"
   ]
  },
  {
   "cell_type": "markdown",
   "metadata": {},
   "source": [
    "Compiling the model using nadam optimiser"
   ]
  },
  {
   "cell_type": "code",
   "execution_count": 11,
   "metadata": {},
   "outputs": [],
   "source": [
    "classifier.compile(optimizer = 'nadam', loss = 'binary_crossentropy', metrics = ['accuracy'])"
   ]
  },
  {
   "cell_type": "markdown",
   "metadata": {},
   "source": [
    "Training the model with a batch size of 32 for 100 epochs."
   ]
  },
  {
   "cell_type": "code",
   "execution_count": 12,
   "metadata": {},
   "outputs": [
    {
     "name": "stdout",
     "output_type": "stream",
     "text": [
      "Epoch 1/100\n",
      "8000/8000 [==============================] - 3s 353us/step - loss: 0.5206 - accuracy: 0.7613\n",
      "Epoch 2/100\n",
      "8000/8000 [==============================] - 1s 163us/step - loss: 0.4466 - accuracy: 0.7990\n",
      "Epoch 3/100\n",
      "8000/8000 [==============================] - 2s 194us/step - loss: 0.4405 - accuracy: 0.8073\n",
      "Epoch 4/100\n",
      "8000/8000 [==============================] - 1s 171us/step - loss: 0.4301 - accuracy: 0.8101\n",
      "Epoch 5/100\n",
      "8000/8000 [==============================] - 1s 184us/step - loss: 0.4303 - accuracy: 0.8141\n",
      "Epoch 6/100\n",
      "8000/8000 [==============================] - 1s 170us/step - loss: 0.4315 - accuracy: 0.8139\n",
      "Epoch 7/100\n",
      "8000/8000 [==============================] - 1s 182us/step - loss: 0.4281 - accuracy: 0.8164\n",
      "Epoch 8/100\n",
      "8000/8000 [==============================] - 1s 177us/step - loss: 0.4242 - accuracy: 0.8140\n",
      "Epoch 9/100\n",
      "8000/8000 [==============================] - 1s 180us/step - loss: 0.4172 - accuracy: 0.8219\n",
      "Epoch 10/100\n",
      "8000/8000 [==============================] - 1s 161us/step - loss: 0.4041 - accuracy: 0.8263\n",
      "Epoch 11/100\n",
      "8000/8000 [==============================] - 1s 185us/step - loss: 0.3958 - accuracy: 0.8329\n",
      "Epoch 12/100\n",
      "8000/8000 [==============================] - 2s 191us/step - loss: 0.3870 - accuracy: 0.8353\n",
      "Epoch 13/100\n",
      "8000/8000 [==============================] - 1s 166us/step - loss: 0.3894 - accuracy: 0.8344\n",
      "Epoch 14/100\n",
      "8000/8000 [==============================] - 1s 162us/step - loss: 0.3812 - accuracy: 0.8404\n",
      "Epoch 15/100\n",
      "8000/8000 [==============================] - 1s 171us/step - loss: 0.3845 - accuracy: 0.8334\n",
      "Epoch 16/100\n",
      "8000/8000 [==============================] - 1s 161us/step - loss: 0.3786 - accuracy: 0.8429\n",
      "Epoch 17/100\n",
      "8000/8000 [==============================] - 1s 158us/step - loss: 0.3775 - accuracy: 0.8438\n",
      "Epoch 18/100\n",
      "8000/8000 [==============================] - 1s 167us/step - loss: 0.3790 - accuracy: 0.8415\n",
      "Epoch 19/100\n",
      "8000/8000 [==============================] - 1s 161us/step - loss: 0.3760 - accuracy: 0.8465\n",
      "Epoch 20/100\n",
      "8000/8000 [==============================] - 1s 173us/step - loss: 0.3775 - accuracy: 0.8441\n",
      "Epoch 21/100\n",
      "8000/8000 [==============================] - 1s 176us/step - loss: 0.3803 - accuracy: 0.8439\n",
      "Epoch 22/100\n",
      "8000/8000 [==============================] - 1s 176us/step - loss: 0.3744 - accuracy: 0.8413\n",
      "Epoch 23/100\n",
      "8000/8000 [==============================] - 1s 164us/step - loss: 0.3793 - accuracy: 0.8450\n",
      "Epoch 24/100\n",
      "8000/8000 [==============================] - 1s 171us/step - loss: 0.3778 - accuracy: 0.8462\n",
      "Epoch 25/100\n",
      "8000/8000 [==============================] - 1s 166us/step - loss: 0.3755 - accuracy: 0.8471\n",
      "Epoch 26/100\n",
      "8000/8000 [==============================] - 1s 182us/step - loss: 0.3710 - accuracy: 0.8486\n",
      "Epoch 27/100\n",
      "8000/8000 [==============================] - 1s 156us/step - loss: 0.3732 - accuracy: 0.8475\n",
      "Epoch 28/100\n",
      "8000/8000 [==============================] - 1s 157us/step - loss: 0.3792 - accuracy: 0.8429\n",
      "Epoch 29/100\n",
      "8000/8000 [==============================] - 1s 178us/step - loss: 0.3760 - accuracy: 0.8472\n",
      "Epoch 30/100\n",
      "8000/8000 [==============================] - 1s 174us/step - loss: 0.3737 - accuracy: 0.8474\n",
      "Epoch 31/100\n",
      "8000/8000 [==============================] - 1s 177us/step - loss: 0.3789 - accuracy: 0.8425\n",
      "Epoch 32/100\n",
      "8000/8000 [==============================] - 1s 159us/step - loss: 0.3722 - accuracy: 0.8472\n",
      "Epoch 33/100\n",
      "8000/8000 [==============================] - 1s 181us/step - loss: 0.3728 - accuracy: 0.8456\n",
      "Epoch 34/100\n",
      "8000/8000 [==============================] - 1s 181us/step - loss: 0.3714 - accuracy: 0.8495\n",
      "Epoch 35/100\n",
      "8000/8000 [==============================] - 1s 175us/step - loss: 0.3727 - accuracy: 0.8466\n",
      "Epoch 36/100\n",
      "8000/8000 [==============================] - 1s 185us/step - loss: 0.3752 - accuracy: 0.8474\n",
      "Epoch 37/100\n",
      "8000/8000 [==============================] - 1s 164us/step - loss: 0.3733 - accuracy: 0.8447\n",
      "Epoch 38/100\n",
      "8000/8000 [==============================] - 1s 159us/step - loss: 0.3689 - accuracy: 0.8486\n",
      "Epoch 39/100\n",
      "8000/8000 [==============================] - 1s 169us/step - loss: 0.3697 - accuracy: 0.8470\n",
      "Epoch 40/100\n",
      "8000/8000 [==============================] - 1s 167us/step - loss: 0.3681 - accuracy: 0.8479\n",
      "Epoch 41/100\n",
      "8000/8000 [==============================] - 1s 163us/step - loss: 0.3744 - accuracy: 0.8465\n",
      "Epoch 42/100\n",
      "8000/8000 [==============================] - 1s 157us/step - loss: 0.3673 - accuracy: 0.8511\n",
      "Epoch 43/100\n",
      "8000/8000 [==============================] - 1s 155us/step - loss: 0.3715 - accuracy: 0.8472\n",
      "Epoch 44/100\n",
      "8000/8000 [==============================] - 1s 163us/step - loss: 0.3656 - accuracy: 0.8459\n",
      "Epoch 45/100\n",
      "8000/8000 [==============================] - 1s 158us/step - loss: 0.3702 - accuracy: 0.8474\n",
      "Epoch 46/100\n",
      "8000/8000 [==============================] - 1s 166us/step - loss: 0.3683 - accuracy: 0.8504\n",
      "Epoch 47/100\n",
      "8000/8000 [==============================] - 2s 192us/step - loss: 0.3672 - accuracy: 0.8489\n",
      "Epoch 48/100\n",
      "8000/8000 [==============================] - 1s 186us/step - loss: 0.3673 - accuracy: 0.8487\n",
      "Epoch 49/100\n",
      "8000/8000 [==============================] - 2s 199us/step - loss: 0.3676 - accuracy: 0.8475\n",
      "Epoch 50/100\n",
      "8000/8000 [==============================] - 1s 185us/step - loss: 0.3653 - accuracy: 0.8478\n",
      "Epoch 51/100\n",
      "8000/8000 [==============================] - 1s 163us/step - loss: 0.3716 - accuracy: 0.8466\n",
      "Epoch 52/100\n",
      "8000/8000 [==============================] - 1s 175us/step - loss: 0.3736 - accuracy: 0.8435\n",
      "Epoch 53/100\n",
      "8000/8000 [==============================] - 1s 163us/step - loss: 0.3700 - accuracy: 0.8489\n",
      "Epoch 54/100\n",
      "8000/8000 [==============================] - 1s 159us/step - loss: 0.3697 - accuracy: 0.8480\n",
      "Epoch 55/100\n",
      "8000/8000 [==============================] - 2s 188us/step - loss: 0.3710 - accuracy: 0.8469\n",
      "Epoch 56/100\n",
      "8000/8000 [==============================] - 2s 198us/step - loss: 0.3680 - accuracy: 0.8503\n",
      "Epoch 57/100\n",
      "8000/8000 [==============================] - 1s 164us/step - loss: 0.3706 - accuracy: 0.8459\n",
      "Epoch 58/100\n",
      "8000/8000 [==============================] - 1s 168us/step - loss: 0.3663 - accuracy: 0.8522\n",
      "Epoch 59/100\n",
      "8000/8000 [==============================] - 1s 156us/step - loss: 0.3703 - accuracy: 0.8472\n",
      "Epoch 60/100\n",
      "8000/8000 [==============================] - 1s 175us/step - loss: 0.3716 - accuracy: 0.8480\n",
      "Epoch 61/100\n",
      "8000/8000 [==============================] - 2s 198us/step - loss: 0.3676 - accuracy: 0.8490\n",
      "Epoch 62/100\n",
      "8000/8000 [==============================] - 2s 191us/step - loss: 0.3664 - accuracy: 0.8484\n",
      "Epoch 63/100\n",
      "8000/8000 [==============================] - 1s 167us/step - loss: 0.3690 - accuracy: 0.8505\n",
      "Epoch 64/100\n",
      "8000/8000 [==============================] - 1s 184us/step - loss: 0.3714 - accuracy: 0.8470\n",
      "Epoch 65/100\n",
      "8000/8000 [==============================] - 1s 174us/step - loss: 0.3686 - accuracy: 0.8472\n",
      "Epoch 66/100\n",
      "8000/8000 [==============================] - 1s 156us/step - loss: 0.3664 - accuracy: 0.8484\n",
      "Epoch 67/100\n",
      "8000/8000 [==============================] - 1s 167us/step - loss: 0.3689 - accuracy: 0.8485\n",
      "Epoch 68/100\n",
      "8000/8000 [==============================] - 1s 161us/step - loss: 0.3669 - accuracy: 0.8491\n",
      "Epoch 69/100\n",
      "8000/8000 [==============================] - 1s 163us/step - loss: 0.3680 - accuracy: 0.8468\n",
      "Epoch 70/100\n",
      "8000/8000 [==============================] - 1s 176us/step - loss: 0.3684 - accuracy: 0.8471\n",
      "Epoch 71/100\n",
      "8000/8000 [==============================] - 1s 165us/step - loss: 0.3640 - accuracy: 0.8510\n",
      "Epoch 72/100\n",
      "8000/8000 [==============================] - 1s 165us/step - loss: 0.3641 - accuracy: 0.8500\n",
      "Epoch 73/100\n",
      "8000/8000 [==============================] - 1s 162us/step - loss: 0.3679 - accuracy: 0.8499\n",
      "Epoch 74/100\n",
      "8000/8000 [==============================] - 1s 175us/step - loss: 0.3681 - accuracy: 0.8468\n",
      "Epoch 75/100\n",
      "8000/8000 [==============================] - 1s 187us/step - loss: 0.3643 - accuracy: 0.8501\n",
      "Epoch 76/100\n",
      "8000/8000 [==============================] - 1s 179us/step - loss: 0.3700 - accuracy: 0.8479\n",
      "Epoch 77/100\n",
      "8000/8000 [==============================] - 2s 205us/step - loss: 0.3654 - accuracy: 0.8476\n",
      "Epoch 78/100\n",
      "8000/8000 [==============================] - 2s 224us/step - loss: 0.3677 - accuracy: 0.8497\n",
      "Epoch 79/100\n",
      "8000/8000 [==============================] - 1s 181us/step - loss: 0.3643 - accuracy: 0.8508\n",
      "Epoch 80/100\n",
      "8000/8000 [==============================] - 1s 154us/step - loss: 0.3619 - accuracy: 0.8516\n",
      "Epoch 81/100\n",
      "8000/8000 [==============================] - 1s 156us/step - loss: 0.3649 - accuracy: 0.8519\n",
      "Epoch 82/100\n",
      "8000/8000 [==============================] - 1s 157us/step - loss: 0.3673 - accuracy: 0.8469\n",
      "Epoch 83/100\n",
      "8000/8000 [==============================] - 1s 163us/step - loss: 0.3641 - accuracy: 0.8510\n",
      "Epoch 84/100\n",
      "8000/8000 [==============================] - 1s 177us/step - loss: 0.3653 - accuracy: 0.8509\n",
      "Epoch 85/100\n",
      "8000/8000 [==============================] - 1s 162us/step - loss: 0.3671 - accuracy: 0.8499\n",
      "Epoch 86/100\n",
      "8000/8000 [==============================] - 1s 186us/step - loss: 0.3641 - accuracy: 0.8490\n",
      "Epoch 87/100\n",
      "8000/8000 [==============================] - 1s 164us/step - loss: 0.3639 - accuracy: 0.8519\n",
      "Epoch 88/100\n",
      "8000/8000 [==============================] - 1s 176us/step - loss: 0.3640 - accuracy: 0.8487\n",
      "Epoch 89/100\n",
      "8000/8000 [==============================] - 1s 172us/step - loss: 0.3640 - accuracy: 0.8510\n",
      "Epoch 90/100\n",
      "8000/8000 [==============================] - 1s 185us/step - loss: 0.3686 - accuracy: 0.8468\n",
      "Epoch 91/100\n",
      "8000/8000 [==============================] - 1s 178us/step - loss: 0.3674 - accuracy: 0.8474\n",
      "Epoch 92/100\n",
      "8000/8000 [==============================] - 2s 191us/step - loss: 0.3675 - accuracy: 0.8491\n",
      "Epoch 93/100\n",
      "8000/8000 [==============================] - 2s 194us/step - loss: 0.3701 - accuracy: 0.8496\n",
      "Epoch 94/100\n",
      "8000/8000 [==============================] - 1s 158us/step - loss: 0.3693 - accuracy: 0.8474\n",
      "Epoch 95/100\n",
      "8000/8000 [==============================] - 1s 169us/step - loss: 0.3606 - accuracy: 0.8494\n",
      "Epoch 96/100\n",
      "8000/8000 [==============================] - 1s 162us/step - loss: 0.3654 - accuracy: 0.8460\n",
      "Epoch 97/100\n",
      "8000/8000 [==============================] - 1s 165us/step - loss: 0.3641 - accuracy: 0.8512\n",
      "Epoch 98/100\n",
      "8000/8000 [==============================] - 1s 177us/step - loss: 0.3653 - accuracy: 0.8475\n",
      "Epoch 99/100\n",
      "8000/8000 [==============================] - 1s 182us/step - loss: 0.3640 - accuracy: 0.8509\n",
      "Epoch 100/100\n",
      "8000/8000 [==============================] - 1s 160us/step - loss: 0.3653 - accuracy: 0.8476\n"
     ]
    },
    {
     "data": {
      "text/plain": [
       "<keras.callbacks.callbacks.History at 0x7f17c822ad68>"
      ]
     },
     "execution_count": 12,
     "metadata": {},
     "output_type": "execute_result"
    }
   ],
   "source": [
    "classifier.fit(X_train,y_train,batch_size = 32, epochs = 100)"
   ]
  },
  {
   "cell_type": "markdown",
   "metadata": {},
   "source": [
    "***MAKING PREDICTIONS AND ANALYSING THE MODEL***"
   ]
  },
  {
   "cell_type": "markdown",
   "metadata": {},
   "source": [
    "Making preditions on the test set"
   ]
  },
  {
   "cell_type": "code",
   "execution_count": 13,
   "metadata": {},
   "outputs": [],
   "source": [
    "y_pred = classifier.predict(X_test)\n",
    "y_pred = (y_pred>0.5)"
   ]
  },
  {
   "cell_type": "code",
   "execution_count": 14,
   "metadata": {},
   "outputs": [
    {
     "data": {
      "text/plain": [
       "array([[False],\n",
       "       [False],\n",
       "       [False],\n",
       "       ...,\n",
       "       [False],\n",
       "       [False],\n",
       "       [False]])"
      ]
     },
     "execution_count": 14,
     "metadata": {},
     "output_type": "execute_result"
    }
   ],
   "source": [
    "y_pred"
   ]
  },
  {
   "cell_type": "markdown",
   "metadata": {},
   "source": [
    "Using Confusion matrix to see the number of correct and incorrect predictions"
   ]
  },
  {
   "cell_type": "code",
   "execution_count": 15,
   "metadata": {},
   "outputs": [
    {
     "data": {
      "text/plain": [
       "array([[1527,   68],\n",
       "       [ 202,  203]])"
      ]
     },
     "execution_count": 15,
     "metadata": {},
     "output_type": "execute_result"
    }
   ],
   "source": [
    "from sklearn.metrics import confusion_matrix\n",
    "cm = confusion_matrix(y_test,y_pred)\n",
    "cm"
   ]
  },
  {
   "cell_type": "markdown",
   "metadata": {},
   "source": [
    "Using accuracy_score to analyse the accuracy on the test set."
   ]
  },
  {
   "cell_type": "code",
   "execution_count": 16,
   "metadata": {},
   "outputs": [
    {
     "data": {
      "text/plain": [
       "0.865"
      ]
     },
     "execution_count": 16,
     "metadata": {},
     "output_type": "execute_result"
    }
   ],
   "source": [
    "from sklearn.metrics import accuracy_score\n",
    "accuracy = accuracy_score(y_test,y_pred)\n",
    "accuracy"
   ]
  },
  {
   "cell_type": "markdown",
   "metadata": {},
   "source": [
    "86.55% accuracy!"
   ]
  },
  {
   "cell_type": "code",
   "execution_count": null,
   "metadata": {},
   "outputs": [],
   "source": []
  }
 ],
 "metadata": {
  "kernelspec": {
   "display_name": "Python 3",
   "language": "python",
   "name": "python3"
  },
  "language_info": {
   "codemirror_mode": {
    "name": "ipython",
    "version": 3
   },
   "file_extension": ".py",
   "mimetype": "text/x-python",
   "name": "python",
   "nbconvert_exporter": "python",
   "pygments_lexer": "ipython3",
   "version": "3.6.6"
  }
 },
 "nbformat": 4,
 "nbformat_minor": 1
}
